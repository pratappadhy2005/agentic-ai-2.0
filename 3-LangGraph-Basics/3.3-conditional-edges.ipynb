{
 "cells": [
  {
   "cell_type": "code",
   "execution_count": 1,
   "metadata": {},
   "outputs": [],
   "source": [
    "import os\n",
    "os.environ[\"PROTOCOL_BUFFERS_PYTHON_IMPLEMENTATION\"] = \"python\""
   ]
  },
  {
   "cell_type": "code",
   "execution_count": 2,
   "metadata": {},
   "outputs": [
    {
     "data": {
      "text/plain": [
       "True"
      ]
     },
     "execution_count": 2,
     "metadata": {},
     "output_type": "execute_result"
    }
   ],
   "source": [
    "from langchain_google_genai import ChatGoogleGenerativeAI\n",
    "from dotenv import load_dotenv\n",
    "load_dotenv()"
   ]
  },
  {
   "cell_type": "markdown",
   "metadata": {},
   "source": [
    "### Configure The Model\n"
   ]
  },
  {
   "cell_type": "code",
   "execution_count": 3,
   "metadata": {},
   "outputs": [
    {
     "name": "stdout",
     "output_type": "stream",
     "text": [
      "Paris\n"
     ]
    }
   ],
   "source": [
    "model = ChatGoogleGenerativeAI(model=\"gemini-1.5-flash\")\n",
    "output=model.invoke(\"What is the capital of France?\")\n",
    "print(output.content)"
   ]
  },
  {
   "cell_type": "markdown",
   "metadata": {},
   "source": [
    "### Configure the embedding model"
   ]
  },
  {
   "cell_type": "code",
   "execution_count": 4,
   "metadata": {},
   "outputs": [
    {
     "name": "stderr",
     "output_type": "stream",
     "text": [
      "/Users/pratappadhy/Documents/Projects/Python/myenv/lib/python3.10/site-packages/tqdm/auto.py:21: TqdmWarning: IProgress not found. Please update jupyter and ipywidgets. See https://ipywidgets.readthedocs.io/en/stable/user_install.html\n",
      "  from .autonotebook import tqdm as notebook_tqdm\n"
     ]
    },
    {
     "data": {
      "text/plain": [
       "1024"
      ]
     },
     "execution_count": 4,
     "metadata": {},
     "output_type": "execute_result"
    }
   ],
   "source": [
    "from langchain_huggingface import HuggingFaceEmbeddings\n",
    "embedding=HuggingFaceEmbeddings(model_name=\"BAAI/bge-large-en\")\n",
    "len(embedding.embed_query(\"hi\"))"
   ]
  },
  {
   "cell_type": "markdown",
   "metadata": {},
   "source": [
    "### Lets create out vector databse and create teh embeddings and store them in the vector database"
   ]
  },
  {
   "cell_type": "code",
   "execution_count": 5,
   "metadata": {},
   "outputs": [],
   "source": [
    "from langchain_community.document_loaders import TextLoader, DirectoryLoader\n",
    "from langchain_community.vectorstores import Chroma\n",
    "from langchain.text_splitter import RecursiveCharacterTextSplitter"
   ]
  },
  {
   "cell_type": "code",
   "execution_count": 6,
   "metadata": {},
   "outputs": [],
   "source": [
    "loader=DirectoryLoader(\"../data2\", glob=\"./*.txt\",loader_cls=TextLoader)"
   ]
  },
  {
   "cell_type": "code",
   "execution_count": 7,
   "metadata": {},
   "outputs": [],
   "source": [
    "docs = loader.load()"
   ]
  },
  {
   "cell_type": "code",
   "execution_count": 8,
   "metadata": {},
   "outputs": [
    {
     "data": {
      "text/plain": [
       "\"🇺🇸 Overview of the U.S. Economy\\nThe United States of America possesses the largest economy in the world in terms of nominal GDP, making it the most powerful economic force globally. It operates under a capitalist mixed economy, where the private sector dominates, but the government plays a significant regulatory and fiscal role. With a population of over 335 million people and a high level of technological advancement, the U.S. economy thrives on a foundation of consumer spending, innovation, global trade, and financial services. It has a highly diversified structure with strong sectors in technology, healthcare, finance, real estate, defense, and agriculture.\\n\\nU.S. GDP – Size, Composition, and Global Share\\nAs of 2024, the United States’ nominal GDP is estimated to be around $28 trillion USD, accounting for approximately 25% of the global economy. It ranks #1 in the world by nominal GDP, far ahead of China (which ranks 2nd). The U.S. GDP per capita is also among the highest, hovering around $83,000, which indicates a high standard of living and productivity. In terms of Purchasing Power Parity (PPP), the U.S. ranks second, but nominal GDP is considered more reflective of actual economic size and financial influence.\\n\\nThe GDP is predominantly driven by the services sector, which contributes more than 77% to the total GDP. This includes industries such as finance, insurance, real estate, healthcare, education, and information technology. The industrial sector (manufacturing, construction, mining) makes up around 19%, while agriculture, although technologically advanced and export-oriented, contributes only about 1%. Despite its small share in GDP, U.S. agriculture is globally significant in terms of productivity and exports.\\n\\nGDP Growth Trends and Dynamics\\nHistorically, the U.S. economy has enjoyed consistent long-term growth, averaging around 2-3% annually. Post-pandemic, the economy bounced back strongly, but 2022 and 2023 saw rising inflation due to supply chain issues and stimulus-driven demand. In 2024, the U.S. GDP grew at a modest pace of around 2.1%, as the Federal Reserve’s interest rate hikes aimed at controlling inflation also moderated economic expansion. Consumer spending, which makes up nearly 70% of GDP, remains a dominant force in economic stability.\\n\\nThe U.S. maintains its GDP growth through strong innovation, entrepreneurship, and investment in R&D. With companies like Apple, Google, Amazon, Microsoft, and Tesla leading global markets, the U.S. consistently produces high value across sectors, especially in technology and advanced services. Additionally, the economy benefits from intellectual property exports, financial services, and higher education, all of which contribute significantly to GDP through both domestic and international markets.\\n\\nRole in the Global Economy\\nThe U.S. Dollar (USD) is the global reserve currency, held by over 60% of the world’s central bank reserves. This gives the U.S. an enormous advantage in global trade and borrowing. The U.S. is a key member of international institutions like the World Bank, IMF, G7, G20, and WTO, and plays a central role in setting global economic policy.\\n\\nAs a global innovation hub, the U.S. attracts billions in foreign investment and hosts many of the world's largest and most valuable companies. Its exports include high-tech machinery, aircraft, pharmaceuticals, semiconductors, and financial services, while its imports cover consumer goods, electronics, automobiles, and industrial materials. The trade deficit remains large (around $900 billion in 2024), primarily because the U.S. consumes more than it exports, but its ability to finance this through capital inflows and reserve currency status sustains balance.\\n\\nKey Economic Strengths\\nThe core strength of the U.S. economy lies in its flexible labor market, deep capital markets, technological superiority, and legal system that encourages innovation and property rights. It has a large, highly educated workforce, a diverse immigration pipeline, and access to vast natural resources including oil, gas, coal, and farmland. The presence of top-tier universities and research institutions fuels the knowledge economy, with billions spent annually on R&D—over $700 billion USD, more than any other country.\\n\\nThe U.S. leads in many critical sectors, including software, biotechnology, aerospace, defense, financial services, and media. Its startup ecosystem, especially in Silicon Valley, produces unicorns and tech giants at a scale unmatched globally. Its financial markets—particularly Wall Street—are the most liquid and globally integrated in the world.\\n\\nChallenges and Structural Issues\\nDespite its strength, the U.S. economy faces several serious long-term issues. The national debt has surpassed $34 trillion USD, raising concerns about fiscal sustainability, especially as interest payments alone are growing rapidly. The income and wealth inequality gap has widened, with a small percentage of Americans owning a disproportionate share of wealth. Access to affordable healthcare, housing shortages, and a declining labor force participation in some sectors are additional structural issues.\\n\\nAnother growing concern is political polarization, which often stalls crucial economic reforms and budget agreements, as seen in recurrent debt ceiling crises. The U.S. also faces challenges from global competition, especially from China in areas like AI, semiconductors, and green technology. Moreover, climate change, cybersecurity threats, and geopolitical risks (like Ukraine and Taiwan conflicts) add layers of vulnerability to economic planning.\\n\\nFuture Outlook (2025–2030)\\nLooking forward, the U.S. economy is expected to grow at a moderate pace, powered by innovation in AI, green energy, robotics, biotech, and quantum computing. The Biden administration’s Inflation Reduction Act and CHIPS Act are pumping massive investments into semiconductors, clean energy, and infrastructure. There is a strong push for reshoring of manufacturing, especially in critical sectors like chips, pharmaceuticals, and batteries.\\n\\nHowever, economic leadership will depend on managing the national debt, reforming entitlement programs, upgrading infrastructure, and ensuring the next generation is equipped with digital-age skills. If the U.S. can handle these challenges, it is well-positioned to remain a global economic powerhouse through 2030 and beyond.\\n\\nFinal Summary\\nThe U.S. economy remains the engine of global growth, backed by unmatched innovation, financial dominance, and a strong institutional framework. Its $28 trillion GDP and influence over global finance, trade, and technology make it the centerpiece of the modern economic system. Yet, rising debt, inequality, political gridlock, and competition from emerging powers demand careful policy navigation. If successfully addressed, the U.S. will continue to dominate the global economy well into the future.\""
      ]
     },
     "execution_count": 8,
     "metadata": {},
     "output_type": "execute_result"
    }
   ],
   "source": [
    "docs[0].page_content"
   ]
  },
  {
   "cell_type": "code",
   "execution_count": 9,
   "metadata": {},
   "outputs": [],
   "source": [
    "text_spiltter = RecursiveCharacterTextSplitter(chunk_size=200,chunk_overlap=50)"
   ]
  },
  {
   "cell_type": "code",
   "execution_count": 10,
   "metadata": {},
   "outputs": [],
   "source": [
    "new_docs=text_spiltter.split_documents(documents=docs)"
   ]
  },
  {
   "cell_type": "code",
   "execution_count": 11,
   "metadata": {},
   "outputs": [],
   "source": [
    "doc_string=[doc.page_content for doc in new_docs]"
   ]
  },
  {
   "cell_type": "code",
   "execution_count": 12,
   "metadata": {},
   "outputs": [
    {
     "data": {
      "text/plain": [
       "['🇺🇸 Overview of the U.S. Economy',\n",
       " 'The United States of America possesses the largest economy in the world in terms of nominal GDP, making it the most powerful economic force globally. It operates under a capitalist mixed economy,',\n",
       " 'It operates under a capitalist mixed economy, where the private sector dominates, but the government plays a significant regulatory and fiscal role. With a population of over 335 million people and a',\n",
       " 'a population of over 335 million people and a high level of technological advancement, the U.S. economy thrives on a foundation of consumer spending, innovation, global trade, and financial services.',\n",
       " 'innovation, global trade, and financial services. It has a highly diversified structure with strong sectors in technology, healthcare, finance, real estate, defense, and agriculture.',\n",
       " 'U.S. GDP – Size, Composition, and Global Share',\n",
       " 'As of 2024, the United States’ nominal GDP is estimated to be around $28 trillion USD, accounting for approximately 25% of the global economy. It ranks #1 in the world by nominal GDP, far ahead of',\n",
       " '#1 in the world by nominal GDP, far ahead of China (which ranks 2nd). The U.S. GDP per capita is also among the highest, hovering around $83,000, which indicates a high standard of living and',\n",
       " 'which indicates a high standard of living and productivity. In terms of Purchasing Power Parity (PPP), the U.S. ranks second, but nominal GDP is considered more reflective of actual economic size and',\n",
       " 'more reflective of actual economic size and financial influence.',\n",
       " 'The GDP is predominantly driven by the services sector, which contributes more than 77% to the total GDP. This includes industries such as finance, insurance, real estate, healthcare, education, and',\n",
       " 'real estate, healthcare, education, and information technology. The industrial sector (manufacturing, construction, mining) makes up around 19%, while agriculture, although technologically advanced',\n",
       " 'agriculture, although technologically advanced and export-oriented, contributes only about 1%. Despite its small share in GDP, U.S. agriculture is globally significant in terms of productivity and',\n",
       " 'globally significant in terms of productivity and exports.',\n",
       " 'GDP Growth Trends and Dynamics',\n",
       " 'Historically, the U.S. economy has enjoyed consistent long-term growth, averaging around 2-3% annually. Post-pandemic, the economy bounced back strongly, but 2022 and 2023 saw rising inflation due to',\n",
       " 'but 2022 and 2023 saw rising inflation due to supply chain issues and stimulus-driven demand. In 2024, the U.S. GDP grew at a modest pace of around 2.1%, as the Federal Reserve’s interest rate hikes',\n",
       " 'as the Federal Reserve’s interest rate hikes aimed at controlling inflation also moderated economic expansion. Consumer spending, which makes up nearly 70% of GDP, remains a dominant force in',\n",
       " 'up nearly 70% of GDP, remains a dominant force in economic stability.',\n",
       " 'The U.S. maintains its GDP growth through strong innovation, entrepreneurship, and investment in R&D. With companies like Apple, Google, Amazon, Microsoft, and Tesla leading global markets, the U.S.',\n",
       " 'and Tesla leading global markets, the U.S. consistently produces high value across sectors, especially in technology and advanced services. Additionally, the economy benefits from intellectual',\n",
       " 'the economy benefits from intellectual property exports, financial services, and higher education, all of which contribute significantly to GDP through both domestic and international markets.',\n",
       " 'Role in the Global Economy',\n",
       " 'The U.S. Dollar (USD) is the global reserve currency, held by over 60% of the world’s central bank reserves. This gives the U.S. an enormous advantage in global trade and borrowing. The U.S. is a key',\n",
       " 'in global trade and borrowing. The U.S. is a key member of international institutions like the World Bank, IMF, G7, G20, and WTO, and plays a central role in setting global economic policy.',\n",
       " \"As a global innovation hub, the U.S. attracts billions in foreign investment and hosts many of the world's largest and most valuable companies. Its exports include high-tech machinery, aircraft,\",\n",
       " 'exports include high-tech machinery, aircraft, pharmaceuticals, semiconductors, and financial services, while its imports cover consumer goods, electronics, automobiles, and industrial materials. The',\n",
       " 'automobiles, and industrial materials. The trade deficit remains large (around $900 billion in 2024), primarily because the U.S. consumes more than it exports, but its ability to finance this through',\n",
       " 'exports, but its ability to finance this through capital inflows and reserve currency status sustains balance.',\n",
       " 'Key Economic Strengths',\n",
       " 'The core strength of the U.S. economy lies in its flexible labor market, deep capital markets, technological superiority, and legal system that encourages innovation and property rights. It has a',\n",
       " 'innovation and property rights. It has a large, highly educated workforce, a diverse immigration pipeline, and access to vast natural resources including oil, gas, coal, and farmland. The presence of',\n",
       " 'oil, gas, coal, and farmland. The presence of top-tier universities and research institutions fuels the knowledge economy, with billions spent annually on R&D—over $700 billion USD, more than any',\n",
       " 'on R&D—over $700 billion USD, more than any other country.',\n",
       " 'The U.S. leads in many critical sectors, including software, biotechnology, aerospace, defense, financial services, and media. Its startup ecosystem, especially in Silicon Valley, produces unicorns',\n",
       " 'especially in Silicon Valley, produces unicorns and tech giants at a scale unmatched globally. Its financial markets—particularly Wall Street—are the most liquid and globally integrated in the world.',\n",
       " 'Challenges and Structural Issues',\n",
       " 'Despite its strength, the U.S. economy faces several serious long-term issues. The national debt has surpassed $34 trillion USD, raising concerns about fiscal sustainability, especially as interest',\n",
       " 'fiscal sustainability, especially as interest payments alone are growing rapidly. The income and wealth inequality gap has widened, with a small percentage of Americans owning a disproportionate',\n",
       " 'percentage of Americans owning a disproportionate share of wealth. Access to affordable healthcare, housing shortages, and a declining labor force participation in some sectors are additional',\n",
       " 'participation in some sectors are additional structural issues.',\n",
       " 'Another growing concern is political polarization, which often stalls crucial economic reforms and budget agreements, as seen in recurrent debt ceiling crises. The U.S. also faces challenges from',\n",
       " 'crises. The U.S. also faces challenges from global competition, especially from China in areas like AI, semiconductors, and green technology. Moreover, climate change, cybersecurity threats, and',\n",
       " 'climate change, cybersecurity threats, and geopolitical risks (like Ukraine and Taiwan conflicts) add layers of vulnerability to economic planning.',\n",
       " 'Future Outlook (2025–2030)',\n",
       " 'Looking forward, the U.S. economy is expected to grow at a moderate pace, powered by innovation in AI, green energy, robotics, biotech, and quantum computing. The Biden administration’s Inflation',\n",
       " 'computing. The Biden administration’s Inflation Reduction Act and CHIPS Act are pumping massive investments into semiconductors, clean energy, and infrastructure. There is a strong push for reshoring',\n",
       " 'There is a strong push for reshoring of manufacturing, especially in critical sectors like chips, pharmaceuticals, and batteries.',\n",
       " 'However, economic leadership will depend on managing the national debt, reforming entitlement programs, upgrading infrastructure, and ensuring the next generation is equipped with digital-age skills.',\n",
       " 'generation is equipped with digital-age skills. If the U.S. can handle these challenges, it is well-positioned to remain a global economic powerhouse through 2030 and beyond.',\n",
       " 'Final Summary',\n",
       " 'The U.S. economy remains the engine of global growth, backed by unmatched innovation, financial dominance, and a strong institutional framework. Its $28 trillion GDP and influence over global',\n",
       " 'Its $28 trillion GDP and influence over global finance, trade, and technology make it the centerpiece of the modern economic system. Yet, rising debt, inequality, political gridlock, and competition',\n",
       " 'inequality, political gridlock, and competition from emerging powers demand careful policy navigation. If successfully addressed, the U.S. will continue to dominate the global economy well into the',\n",
       " 'to dominate the global economy well into the future.']"
      ]
     },
     "execution_count": 12,
     "metadata": {},
     "output_type": "execute_result"
    }
   ],
   "source": [
    "doc_string"
   ]
  },
  {
   "cell_type": "code",
   "execution_count": 13,
   "metadata": {},
   "outputs": [
    {
     "data": {
      "text/plain": [
       "55"
      ]
     },
     "execution_count": 13,
     "metadata": {},
     "output_type": "execute_result"
    }
   ],
   "source": [
    "len(doc_string)"
   ]
  },
  {
   "cell_type": "code",
   "execution_count": 15,
   "metadata": {},
   "outputs": [],
   "source": [
    "db=Chroma.from_documents(new_docs,embedding)"
   ]
  },
  {
   "cell_type": "code",
   "execution_count": 16,
   "metadata": {},
   "outputs": [],
   "source": [
    "retriever=db.as_retriever(search_kwargs={\"k\":3})"
   ]
  },
  {
   "cell_type": "code",
   "execution_count": 18,
   "metadata": {},
   "outputs": [
    {
     "data": {
      "text/plain": [
       "[Document(metadata={'source': '../data2/usa.txt'}, page_content='🇺🇸 Overview of the U.S. Economy'),\n",
       " Document(metadata={'source': '../data2/usa.txt'}, page_content='🇺🇸 Overview of the U.S. Economy'),\n",
       " Document(metadata={'source': '../data2/usa.txt'}, page_content='GDP Growth Trends and Dynamics')]"
      ]
     },
     "execution_count": 18,
     "metadata": {},
     "output_type": "execute_result"
    }
   ],
   "source": [
    "retriever.invoke(\"industrial growth of USA?\")"
   ]
  },
  {
   "cell_type": "markdown",
   "metadata": {},
   "source": [
    "### creation of pydantic class\n"
   ]
  },
  {
   "cell_type": "code",
   "execution_count": 19,
   "metadata": {},
   "outputs": [],
   "source": [
    "import operator\n",
    "from pydantic import BaseModel,Field\n",
    "from typing import TypedDict, Annotated, Sequence\n",
    "from langchain_core.messages import BaseMessage"
   ]
  },
  {
   "cell_type": "code",
   "execution_count": 21,
   "metadata": {},
   "outputs": [],
   "source": [
    "class TopicSelectionParser(BaseModel):\n",
    "    Topic:str=Field(description=\"selected topic\")\n",
    "    Reasoning:str=Field(description='Reasoning behind topic selection')"
   ]
  },
  {
   "cell_type": "code",
   "execution_count": 22,
   "metadata": {},
   "outputs": [],
   "source": [
    "from langchain.output_parsers import PydanticOutputParser"
   ]
  },
  {
   "cell_type": "code",
   "execution_count": 23,
   "metadata": {},
   "outputs": [],
   "source": [
    "parser=PydanticOutputParser(pydantic_object=TopicSelectionParser)"
   ]
  },
  {
   "cell_type": "code",
   "execution_count": 24,
   "metadata": {},
   "outputs": [
    {
     "data": {
      "text/plain": [
       "'The output should be formatted as a JSON instance that conforms to the JSON schema below.\\n\\nAs an example, for the schema {\"properties\": {\"foo\": {\"title\": \"Foo\", \"description\": \"a list of strings\", \"type\": \"array\", \"items\": {\"type\": \"string\"}}}, \"required\": [\"foo\"]}\\nthe object {\"foo\": [\"bar\", \"baz\"]} is a well-formatted instance of the schema. The object {\"properties\": {\"foo\": [\"bar\", \"baz\"]}} is not well-formatted.\\n\\nHere is the output schema:\\n```\\n{\"properties\": {\"Topic\": {\"description\": \"selected topic\", \"title\": \"Topic\", \"type\": \"string\"}, \"Reasoning\": {\"description\": \"Reasoning behind topic selection\", \"title\": \"Reasoning\", \"type\": \"string\"}}, \"required\": [\"Topic\", \"Reasoning\"]}\\n```'"
      ]
     },
     "execution_count": 24,
     "metadata": {},
     "output_type": "execute_result"
    }
   ],
   "source": [
    "parser.get_format_instructions()"
   ]
  },
  {
   "cell_type": "code",
   "execution_count": 25,
   "metadata": {},
   "outputs": [],
   "source": [
    "class Agentstate(TypedDict):\n",
    "    message: Annotated[Sequence[BaseMessage], operator.add]"
   ]
  },
  {
   "cell_type": "code",
   "execution_count": null,
   "metadata": {},
   "outputs": [],
   "source": []
  }
 ],
 "metadata": {
  "kernelspec": {
   "display_name": "Python 3",
   "language": "python",
   "name": "python3"
  },
  "language_info": {
   "codemirror_mode": {
    "name": "ipython",
    "version": 3
   },
   "file_extension": ".py",
   "mimetype": "text/x-python",
   "name": "python",
   "nbconvert_exporter": "python",
   "pygments_lexer": "ipython3",
   "version": "3.10.16"
  }
 },
 "nbformat": 4,
 "nbformat_minor": 2
}
