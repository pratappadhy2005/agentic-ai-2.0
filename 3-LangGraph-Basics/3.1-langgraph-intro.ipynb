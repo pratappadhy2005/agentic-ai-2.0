{
 "cells": [
  {
   "cell_type": "markdown",
   "metadata": {},
   "source": [
    "# Main Components\n",
    "graph()\n",
    "state\n",
    "edges\n",
    "nodes\n",
    "invoke\n",
    "stategraph()"
   ]
  },
  {
   "cell_type": "code",
   "execution_count": 146,
   "metadata": {},
   "outputs": [
    {
     "data": {
      "text/plain": [
       "True"
      ]
     },
     "execution_count": 146,
     "metadata": {},
     "output_type": "execute_result"
    }
   ],
   "source": [
    "from dotenv import load_dotenv\n",
    "load_dotenv()"
   ]
  },
  {
   "cell_type": "code",
   "execution_count": 147,
   "metadata": {},
   "outputs": [],
   "source": [
    "def funtion1(input):\n",
    "    return input + \" first function\"\n",
    "\n",
    "def function2(input):\n",
    "    return input + \" padhy second function\"\n",
    "\n",
    "def function3(input):\n",
    "    return input + \" third function\""
   ]
  },
  {
   "cell_type": "code",
   "execution_count": 148,
   "metadata": {},
   "outputs": [],
   "source": [
    "from langgraph.graph import Graph"
   ]
  },
  {
   "cell_type": "code",
   "execution_count": 149,
   "metadata": {},
   "outputs": [],
   "source": [
    "\n",
    "workflow1=Graph()\n"
   ]
  },
  {
   "cell_type": "code",
   "execution_count": 150,
   "metadata": {},
   "outputs": [
    {
     "data": {
      "text/plain": [
       "<langgraph.graph.graph.Graph at 0x117c0c340>"
      ]
     },
     "execution_count": 150,
     "metadata": {},
     "output_type": "execute_result"
    }
   ],
   "source": [
    "workflow1.add_node(\"fun1\",function1)"
   ]
  },
  {
   "cell_type": "code",
   "execution_count": 151,
   "metadata": {},
   "outputs": [
    {
     "data": {
      "text/plain": [
       "<langgraph.graph.graph.Graph at 0x117c0c340>"
      ]
     },
     "execution_count": 151,
     "metadata": {},
     "output_type": "execute_result"
    }
   ],
   "source": [
    "workflow1.add_node(\"fun2\",function2)"
   ]
  },
  {
   "cell_type": "code",
   "execution_count": 152,
   "metadata": {},
   "outputs": [
    {
     "data": {
      "text/plain": [
       "<langgraph.graph.graph.Graph at 0x117c0c340>"
      ]
     },
     "execution_count": 152,
     "metadata": {},
     "output_type": "execute_result"
    }
   ],
   "source": [
    "workflow1.add_edge(\"fun1\",\"fun2\")"
   ]
  },
  {
   "cell_type": "code",
   "execution_count": 153,
   "metadata": {},
   "outputs": [
    {
     "data": {
      "text/plain": [
       "<langgraph.graph.graph.Graph at 0x117c0c340>"
      ]
     },
     "execution_count": 153,
     "metadata": {},
     "output_type": "execute_result"
    }
   ],
   "source": [
    "workflow1.set_entry_point(\"fun1\")"
   ]
  },
  {
   "cell_type": "code",
   "execution_count": 154,
   "metadata": {},
   "outputs": [
    {
     "data": {
      "text/plain": [
       "<langgraph.graph.graph.Graph at 0x117c0c340>"
      ]
     },
     "execution_count": 154,
     "metadata": {},
     "output_type": "execute_result"
    }
   ],
   "source": [
    "workflow1.set_finish_point(\"fun2\")\n"
   ]
  },
  {
   "cell_type": "code",
   "execution_count": 155,
   "metadata": {},
   "outputs": [],
   "source": [
    "app=workflow1.compile()"
   ]
  },
  {
   "cell_type": "code",
   "execution_count": 156,
   "metadata": {},
   "outputs": [
    {
     "data": {
      "text/plain": [
       "Graph(nodes={'fun1': Node(id='fun1', name='fun1', data=fun1(tags=None, recurse=True, explode_args=False, func_accepts_config=False, func_accepts={}), metadata=None), 'fun2': Node(id='fun2', name='fun2', data=fun2(tags=None, recurse=True, explode_args=False, func_accepts_config=False, func_accepts={}), metadata=None), '__start__': Node(id='__start__', name='__start__', data=None, metadata=None), '__end__': Node(id='__end__', name='__end__', data=None, metadata=None)}, edges=[Edge(source='__start__', target='fun1', data=None, conditional=False), Edge(source='fun1', target='fun2', data=None, conditional=False), Edge(source='fun2', target='__end__', data=None, conditional=False)])"
      ]
     },
     "execution_count": 156,
     "metadata": {},
     "output_type": "execute_result"
    }
   ],
   "source": [
    "app.get_graph()"
   ]
  },
  {
   "cell_type": "code",
   "execution_count": 157,
   "metadata": {},
   "outputs": [
    {
     "data": {
      "image/png": "[encoded data removed]",
      "text/plain": [
       "<IPython.core.display.Image object>"
      ]
     },
     "metadata": {},
     "output_type": "display_data"
    }
   ],
   "source": [
    "\n",
    "from IPython.display import Image, display\n",
    "display(Image(app.get_graph().draw_mermaid_png()))\n",
    "\n",
    "\n",
    "\n"
   ]
  },
  {
   "cell_type": "code",
   "execution_count": 158,
   "metadata": {},
   "outputs": [
    {
     "data": {
      "text/plain": [
       "'hi this is pratap first function padhy second function'"
      ]
     },
     "execution_count": 158,
     "metadata": {},
     "output_type": "execute_result"
    }
   ],
   "source": [
    "app.invoke(\"hi this is pratap\")"
   ]
  },
  {
   "cell_type": "code",
   "execution_count": 159,
   "metadata": {},
   "outputs": [
    {
     "name": "stdout",
     "output_type": "stream",
     "text": [
      "here is output from fun1\n",
      "_______\n",
      "hi this is rohit first function\n",
      "\n",
      "\n",
      "here is output from fun2\n",
      "_______\n",
      "hi this is rohit first function padhy second function\n",
      "\n",
      "\n"
     ]
    }
   ],
   "source": [
    "for output in app.stream(\"hi this is rohit\"):\n",
    "    for key,value in output.items():\n",
    "        print(f\"here is output from {key}\")\n",
    "        print(\"_______\")\n",
    "        print(value)\n",
    "        print(\"\\n\")"
   ]
  },
  {
   "cell_type": "code",
   "execution_count": 160,
   "metadata": {},
   "outputs": [],
   "source": [
    "def llm(input):\n",
    "    from langchain_google_genai import ChatGoogleGenerativeAI\n",
    "    model=ChatGoogleGenerativeAI(model='gemini-1.5-flash')\n",
    "    output=model.invoke(input)\n",
    "    return output.content"
   ]
  },
  {
   "cell_type": "code",
   "execution_count": 161,
   "metadata": {},
   "outputs": [],
   "source": [
    "def token_counter(input):\n",
    "    token = input.split()\n",
    "    token_length=len(token)\n",
    "    return f\"Total token number is generated from the input is {token_length}\""
   ]
  },
  {
   "cell_type": "code",
   "execution_count": 162,
   "metadata": {},
   "outputs": [],
   "source": [
    "workflow2=Graph()"
   ]
  },
  {
   "cell_type": "code",
   "execution_count": 163,
   "metadata": {},
   "outputs": [
    {
     "data": {
      "text/plain": [
       "<langgraph.graph.graph.Graph at 0x117c0c730>"
      ]
     },
     "execution_count": 163,
     "metadata": {},
     "output_type": "execute_result"
    }
   ],
   "source": [
    "workflow2.add_node(\"My_LLM\", llm)"
   ]
  },
  {
   "cell_type": "code",
   "execution_count": 164,
   "metadata": {},
   "outputs": [
    {
     "data": {
      "text/plain": [
       "<langgraph.graph.graph.Graph at 0x117c0c730>"
      ]
     },
     "execution_count": 164,
     "metadata": {},
     "output_type": "execute_result"
    }
   ],
   "source": [
    "workflow2.add_node(\"LLM_output_token_counter\", token_counter)"
   ]
  },
  {
   "cell_type": "code",
   "execution_count": 165,
   "metadata": {},
   "outputs": [
    {
     "data": {
      "text/plain": [
       "<langgraph.graph.graph.Graph at 0x117c0c730>"
      ]
     },
     "execution_count": 165,
     "metadata": {},
     "output_type": "execute_result"
    }
   ],
   "source": [
    "workflow2.add_edge(\"My_LLM\", \"LLM_output_token_counter\")"
   ]
  },
  {
   "cell_type": "code",
   "execution_count": 166,
   "metadata": {},
   "outputs": [
    {
     "data": {
      "text/plain": [
       "<langgraph.graph.graph.Graph at 0x117c0c730>"
      ]
     },
     "execution_count": 166,
     "metadata": {},
     "output_type": "execute_result"
    }
   ],
   "source": [
    "workflow2.set_entry_point(\"My_LLM\")"
   ]
  },
  {
   "cell_type": "code",
   "execution_count": 167,
   "metadata": {},
   "outputs": [
    {
     "data": {
      "text/plain": [
       "<langgraph.graph.graph.Graph at 0x117c0c730>"
      ]
     },
     "execution_count": 167,
     "metadata": {},
     "output_type": "execute_result"
    }
   ],
   "source": [
    "workflow2.set_finish_point(\"LLM_output_token_counter\")"
   ]
  },
  {
   "cell_type": "code",
   "execution_count": 168,
   "metadata": {},
   "outputs": [],
   "source": [
    "app= workflow2.compile()"
   ]
  },
  {
   "cell_type": "code",
   "execution_count": 169,
   "metadata": {},
   "outputs": [
    {
     "data": {
      "image/png": "[encoded data removed]",
      "text/plain": [
       "<IPython.core.display.Image object>"
      ]
     },
     "metadata": {},
     "output_type": "display_data"
    }
   ],
   "source": [
    "from IPython.display import Image, display\n",
    "display(Image(app.get_graph().draw_mermaid_png()))"
   ]
  },
  {
   "cell_type": "code",
   "execution_count": 170,
   "metadata": {},
   "outputs": [
    {
     "data": {
      "text/plain": [
       "'Total token number is generated from the input is 5'"
      ]
     },
     "execution_count": 170,
     "metadata": {},
     "output_type": "execute_result"
    }
   ],
   "source": [
    "app.invoke(\"can you please tell me the India's capital\")"
   ]
  },
  {
   "cell_type": "code",
   "execution_count": 171,
   "metadata": {},
   "outputs": [
    {
     "name": "stdout",
     "output_type": "stream",
     "text": [
      "here is output from My_LLM\n",
      "_______\n",
      "Tata Enterprises, more accurately referred to as the **Tata Group**, is a massive Indian multinational conglomerate headquartered in Mumbai.  It's not a single entity but a network of over 100 operating companies, spanning a diverse range of industries and employing millions of people globally.  Understanding its complexity requires looking at several key aspects:\n",
      "\n",
      "**I. History and Structure:**\n",
      "\n",
      "* **Origins:** The group's history traces back to 1868 with the establishment of a trading company by Jamsetji Tata.  His visionary leadership laid the foundation for the group's subsequent diversification and growth.\n",
      "* **Structure:** The Tata Group isn't a traditional pyramid structure.  It's a complex web of holding companies, subsidiaries, and associated companies.  Tata Sons is the principal investment holding company, owning stakes in various group companies.  While there's a degree of centralized control, individual companies operate with significant autonomy.  This structure allows for flexibility and adaptation to different market conditions.\n",
      "* **Trusts:**  A unique feature is the significant role of philanthropic trusts.  These trusts, primarily the Sir Dorabji Tata Trust and Sir Ratan Tata Trust, own substantial shares in Tata Sons and play a crucial role in governance, strategy, and social responsibility.  This ensures a long-term perspective and commitment to social impact.\n",
      "\n",
      "**II. Key Industries and Businesses:**\n",
      "\n",
      "The Tata Group's presence is vast, encompassing:\n",
      "\n",
      "* **Automotive:** Tata Motors is a leading player, manufacturing cars, trucks, and buses both domestically and internationally.  Jaguar Land Rover is a significant acquisition that bolstered its global automotive footprint.\n",
      "* **Steel:** Tata Steel is a major global steel producer, with operations in India and other countries.\n",
      "* **Information Technology:** Tata Consultancy Services (TCS) is one of the world's largest IT services companies, providing software, consulting, and business process outsourcing services. Tata Elxsi is another prominent player in the embedded systems and design space.\n",
      "* **Consumer Goods:**  Tata Consumer Products offers a wide range of food and beverage products, including tea, coffee, salt, and water.\n",
      "* **Chemicals:** Tata Chemicals is involved in various chemical products, including fertilizers and basic chemicals.\n",
      "* **Energy:** Tata Power is a significant player in the power generation and distribution sector.  The group also has investments in renewable energy sources.\n",
      "* **Telecommunications:** Tata Communications provides a range of telecommunication services globally.\n",
      "* **Hospitality:** Indian Hotels Company Limited (IHCL) operates luxury hotels under the Taj brand, among others.\n",
      "* **Aerospace and Defence:** Tata Advanced Systems is involved in the aerospace and defence industry.\n",
      "* **Retail:**  Tata operates several retail chains, including Trent and Star Bazaar.\n",
      "\n",
      "\n",
      "**III. Global Presence:**\n",
      "\n",
      "The Tata Group's operations extend far beyond India.  It has significant presence in many countries across Asia, Europe, North America, and Africa.  This global footprint contributes significantly to its revenue and brand recognition.\n",
      "\n",
      "**IV. Corporate Governance and Social Responsibility:**\n",
      "\n",
      "* **Ethics and Values:** The group places strong emphasis on ethics and values, rooted in its founding principles.  This is reflected in its commitment to corporate social responsibility (CSR).\n",
      "* **Philanthropy:** The Tata trusts have a long history of philanthropy, supporting numerous social causes, including education, healthcare, and rural development.  This commitment is deeply ingrained in the group's DNA.\n",
      "* **Sustainability:**  The group is increasingly focusing on sustainability initiatives across its businesses, aiming to minimize environmental impact and promote responsible business practices.\n",
      "\n",
      "\n",
      "**V. Challenges and Future Outlook:**\n",
      "\n",
      "Despite its size and success, the Tata Group faces several challenges:\n",
      "\n",
      "* **Global competition:**  Intense competition in various industries requires constant innovation and adaptation.\n",
      "* **Economic fluctuations:** Global economic downturns can impact the group's performance.\n",
      "* **Regulatory changes:**  Changes in government regulations and policies can affect its operations.\n",
      "* **Maintaining consistency across diverse businesses:** Managing such a diverse portfolio requires effective coordination and strategic alignment.\n",
      "\n",
      "\n",
      "The Tata Group's future outlook is generally positive, driven by its strong brand reputation, diversified portfolio, and commitment to innovation and sustainability.  However, navigating the challenges mentioned above will be crucial for continued success in the dynamic global landscape.  The group is actively investing in new technologies and expanding into emerging markets to secure its position as a major global player.\n",
      "\n",
      "\n",
      "here is output from LLM_output_token_counter\n",
      "_______\n",
      "Total token number is generated from the input is 665\n",
      "\n",
      "\n"
     ]
    }
   ],
   "source": [
    "for output in app.stream(\"tell me about the tata enterpirse in very detail.\"):\n",
    "    for key,value in output.items():\n",
    "        print(f\"here is output from {key}\")\n",
    "        print(\"_______\")\n",
    "        print(value)\n",
    "        print(\"\\n\")"
   ]
  },
  {
   "cell_type": "code",
   "execution_count": null,
   "metadata": {},
   "outputs": [],
   "source": []
  }
 ],
 "metadata": {
  "kernelspec": {
   "display_name": "Python 3",
   "language": "python",
   "name": "python3"
  },
  "language_info": {
   "codemirror_mode": {
    "name": "ipython",
    "version": 3
   },
   "file_extension": ".py",
   "mimetype": "text/x-python",
   "name": "python",
   "nbconvert_exporter": "python",
   "pygments_lexer": "ipython3",
   "version": "3.10.16"
  }
 },
 "nbformat": 4,
 "nbformat_minor": 2
}
