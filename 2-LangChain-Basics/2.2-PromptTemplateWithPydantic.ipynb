{
 "cells": [
  {
   "cell_type": "code",
   "execution_count": 7,
   "metadata": {},
   "outputs": [],
   "source": [
    "from langchain.prompts import PromptTemplate\n",
    "from langchain_core.output_parsers import XMLOutputParser\n",
    "from langchain_core.pydantic_v1 import BaseModel, Field\n",
    "from langchain.chat_models import ChatOpenAI\n",
    "import os\n",
    "from dotenv import load_dotenv\n",
    "\n",
    "load_dotenv()\n",
    "\n",
    "\n",
    "os.environ[\"OPENAI_API_KEY\"] = os.getenv(\"OPENAI_API_KEY\")\n",
    "os.environ[\"GROQ_API_KEY\"] =os.getenv(\"GROQ_API_KEY\")\n",
    "\n",
    "##Langsmith Tracking and tracing\n",
    "os.environ[\"LANGCHAIN_API_KEY\"] = os.getenv(\"LANGCHAIN_API_KEY\")\n",
    "os.environ[\"LANGCHAIN_PROJECT\"] =os.getenv(\"LANGCHAIN_PROJECT\")\n",
    "os.environ[\"LANGCHAIN_TRACING_V2\"] = \"true\""
   ]
  },
  {
   "cell_type": "code",
   "execution_count": 6,
   "metadata": {},
   "outputs": [
    {
     "name": "stdout",
     "output_type": "stream",
     "text": [
      "{'person': [{'name': 'Bob'}, {'age': '45'}]}\n"
     ]
    }
   ],
   "source": [
    "# 1. Define the output schema using Pydantic\n",
    "class Person(BaseModel):\n",
    "    name: int = Field(..., description=\"The person's name\")\n",
    "    age: int = Field(..., description=\"The person's age\")\n",
    "\n",
    "# 2. Create an XML output parser for the schema\n",
    "parser = XMLOutputParser(pydantic_object=Person)\n",
    "\n",
    "# 3. Define the prompt with parser format instructions\n",
    "prompt = PromptTemplate(\n",
    "    template=(\n",
    "        \"Extract the person's name and age from the following sentence:\\n\\n{text}\\n\\n\"\n",
    "        \"Return the result in the following XML format:\\n\\n{format_instructions}\"\n",
    "    ),\n",
    "    input_variables=[\"text\"],\n",
    "    partial_variables={\"format_instructions\": parser.get_format_instructions()}\n",
    ")\n",
    "\n",
    "# 4. Set up the LLM\n",
    "llm = ChatOpenAI(model=\"gpt-4\", temperature=0)\n",
    "\n",
    "# 5. Pipe the components: prompt → llm → parser\n",
    "chain = prompt | llm | parser\n",
    "\n",
    "# 6. Run the chain with input text\n",
    "output = chain.invoke({\"text\": \"My name is Bob and I am 45 years old.\"})\n",
    "\n",
    "print(output)"
   ]
  },
  {
   "cell_type": "code",
   "execution_count": 32,
   "metadata": {},
   "outputs": [
    {
     "name": "stdout",
     "output_type": "stream",
     "text": [
      "{'name': 'phone', 'details': 'a phone that has a good camera', 'tentativePrice': 500}\n"
     ]
    }
   ],
   "source": [
    "from langchain_core.prompts import ChatPromptTemplate\n",
    "from langchain_core.pydantic_v1 import BaseModel, Field\n",
    "from langchain.chat_models import ChatOpenAI\n",
    "from langchain_core.output_parsers import JsonOutputParser\n",
    "\n",
    "class Product(BaseModel):\n",
    "    name: str = Field(..., description=\"The product's name\")\n",
    "    details: str = Field(..., description=\"The product's details\")\n",
    "    tentativePrice: float = Field(..., description=\"The product's tentative price\")\n",
    "\n",
    "\n",
    "# 2. Create a JSON output parser for the schema\n",
    "parser = JsonOutputParser(pydantic_object=Product)\n",
    "\n",
    "prompt = ChatPromptTemplate.from_messages([\n",
    "    (\"system\", \"You are a helpful assistant that extracts product information and formats it as JSON.\"),\n",
    "    (\"user\", \"Extract the product name, details and tentative price from this text and return it as a valid JSON object with 'name', 'details', and 'tentativePrice' fields:\\n\\n{input}\\n\\n{format_instructions}\")\n",
    "])\n",
    "\n",
    "# 4. Set up the LLM\n",
    "llm = ChatOpenAI(model=\"gpt-4\", temperature=0)\n",
    "\n",
    "# 5. Pipe the components: prompt → llm → parser\n",
    "chain = prompt | llm | parser\n",
    "\n",
    "# 6. Run the chain with input text\n",
    "output = chain.invoke({\n",
    "    \"input\": \"I want to buy a new phone. I am looking for a phone that has a good camera. I am willing to pay $500 for it.\",\n",
    "    \"format_instructions\": parser.get_format_instructions()\n",
    "})\n",
    "\n",
    "print(output)"
   ]
  }
 ],
 "metadata": {
  "kernelspec": {
   "display_name": "Python 3",
   "language": "python",
   "name": "python3"
  },
  "language_info": {
   "codemirror_mode": {
    "name": "ipython",
    "version": 3
   },
   "file_extension": ".py",
   "mimetype": "text/x-python",
   "name": "python",
   "nbconvert_exporter": "python",
   "pygments_lexer": "ipython3",
   "version": "3.12.0"
  }
 },
 "nbformat": 4,
 "nbformat_minor": 2
}
