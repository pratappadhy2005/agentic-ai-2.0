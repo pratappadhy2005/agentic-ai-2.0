{
 "cells": [
  {
   "cell_type": "code",
   "execution_count": 3,
   "metadata": {},
   "outputs": [
    {
     "data": {
      "text/plain": [
       "True"
      ]
     },
     "execution_count": 3,
     "metadata": {},
     "output_type": "execute_result"
    }
   ],
   "source": [
    "from langchain_openai import OpenAIEmbeddings\n",
    "from langchain_community.vectorstores import FAISS\n",
    "from langchain_openai import ChatOpenAI\n",
    "from langchain.schema import HumanMessage, AIMessage\n",
    "from langchain_core.documents import Document\n",
    "from langchain.retrievers import MultiVectorRetriever\n",
    "from langchain.storage import InMemoryStore\n",
    "from PIL import Image\n",
    "import io\n",
    "from dotenv import load_dotenv\n",
    "load_dotenv()"
   ]
  },
  {
   "cell_type": "code",
   "execution_count": 4,
   "metadata": {},
   "outputs": [],
   "source": [
    "# Initialize the embedding model\n",
    "embeddings = OpenAIEmbeddings()"
   ]
  },
  {
   "cell_type": "code",
   "execution_count": 5,
   "metadata": {},
   "outputs": [],
   "source": [
    "# Initialize the LLM\n",
    "llm = ChatOpenAI(model=\"gpt-4-vision-preview\", max_tokens=1024)"
   ]
  },
  {
   "cell_type": "code",
   "execution_count": 6,
   "metadata": {},
   "outputs": [],
   "source": [
    "# Create a vector store for text documents\n",
    "text_vectorstore = FAISS.from_texts(\n",
    "    [\"This is a red car\", \"This is a blue house\", \"This is a green tree\"],\n",
    "    embeddings\n",
    ")"
   ]
  },
  {
   "cell_type": "code",
   "execution_count": 7,
   "metadata": {},
   "outputs": [],
   "source": [
    "# Function to process images\n",
    "def process_image(image_path):\n",
    "    # Load and process image\n",
    "    image = Image.open(image_path)\n",
    "    # Convert to bytes for OpenAI API\n",
    "    byte_stream = io.BytesIO()\n",
    "    image.save(byte_stream, format=image.format)\n",
    "    image_bytes = byte_stream.getvalue()\n",
    "    return image_bytes"
   ]
  },
  {
   "cell_type": "code",
   "execution_count": 8,
   "metadata": {},
   "outputs": [],
   "source": [
    "# Create a retriever that combines text and image search\n",
    "id_key = \"doc_id\"\n",
    "docstore = InMemoryStore()\n",
    "multimodal_retriever = MultiVectorRetriever(\n",
    "    vectorstore=text_vectorstore,\n",
    "    docstore=docstore,\n",
    "    id_key=id_key,\n",
    ")"
   ]
  },
  {
   "cell_type": "code",
   "execution_count": 9,
   "metadata": {},
   "outputs": [],
   "source": [
    "# Function to add documents\n",
    "def add_document(text, image_path=None):\n",
    "    doc_id = str(hash(text))\n",
    "    doc = Document(page_content=text, metadata={id_key: doc_id})\n",
    "    \n",
    "    if image_path:\n",
    "        # Process image and add to docstore\n",
    "        image_bytes = process_image(image_path)\n",
    "        doc.metadata[\"image\"] = image_bytes\n",
    "    \n",
    "    multimodal_retriever.add_documents([doc])"
   ]
  },
  {
   "cell_type": "code",
   "execution_count": 10,
   "metadata": {},
   "outputs": [],
   "source": [
    "# Function to query the system\n",
    "def query_system(query, image_path=None):\n",
    "    # Prepare the messages\n",
    "    messages = []\n",
    "    messages.append(HumanMessage(content=query))\n",
    "    \n",
    "    if image_path:\n",
    "        image_bytes = process_image(image_path)\n",
    "        messages[0].content = [\n",
    "            query,\n",
    "            {\"type\": \"image_url\", \n",
    "             \"image_url\": f\"data:image/jpeg;base64,{image_bytes}\"}\n",
    "        ]\n",
    "    \n",
    "    # Get relevant documents\n",
    "    docs = multimodal_retriever.get_relevant_documents(query)\n",
    "    \n",
    "    # Add context from retrieved documents\n",
    "    context = \"Retrieved context:\\n\"\n",
    "    for doc in docs:\n",
    "        context += doc.page_content + \"\\n\"\n",
    "        if \"image\" in doc.metadata:\n",
    "            messages[0].content.append(\n",
    "                {\"type\": \"image_url\", \n",
    "                 \"image_url\": f\"data:image/jpeg;base64,{doc.metadata['image']}\"}\n",
    "            )\n",
    "    \n",
    "    # Add context to query\n",
    "    if isinstance(messages[0].content, str):\n",
    "        messages[0].content = context + \"\\nQuery: \" + messages[0].content\n",
    "    else:\n",
    "        messages[0].content[0] = context + \"\\nQuery: \" + messages[0].content[0]\n",
    "    \n",
    "    # Get response from LLM\n",
    "    response = llm.invoke(messages)\n",
    "    return response.content"
   ]
  },
  {
   "cell_type": "code",
   "execution_count": null,
   "metadata": {},
   "outputs": [],
   "source": [
    "# Example usage:\n",
    "'''\n",
    "add_document(\"This is a red sports car\", \"car.jpg\")\n",
    "add_document(\"This is a modern house\", \"house.jpg\")\n",
    "\n",
    "# Query with text only\n",
    "response = query_system(\"What color is the car?\")\n",
    "\n",
    "# Query with text and image\n",
    "response = query_system(\"What's in this image?\", \"query_image.jpg\")\n",
    "'''"
   ]
  }
 ],
 "metadata": {
  "kernelspec": {
   "display_name": "Python 3",
   "language": "python",
   "name": "python3"
  },
  "language_info": {
   "codemirror_mode": {
    "name": "ipython",
    "version": 3
   },
   "file_extension": ".py",
   "mimetype": "text/x-python",
   "name": "python",
   "nbconvert_exporter": "python",
   "pygments_lexer": "ipython3",
   "version": "3.10.16"
  }
 },
 "nbformat": 4,
 "nbformat_minor": 2
}
