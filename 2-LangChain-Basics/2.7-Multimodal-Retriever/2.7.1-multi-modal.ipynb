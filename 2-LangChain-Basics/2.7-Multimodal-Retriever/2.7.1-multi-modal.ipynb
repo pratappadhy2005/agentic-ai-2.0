{
 "cells": [
  {
   "cell_type": "code",
   "execution_count": 12,
   "metadata": {},
   "outputs": [
    {
     "data": {
      "text/plain": [
       "True"
      ]
     },
     "execution_count": 12,
     "metadata": {},
     "output_type": "execute_result"
    }
   ],
   "source": [
    "from langchain_openai import OpenAIEmbeddings\n",
    "from langchain_community.vectorstores import FAISS\n",
    "from langchain_openai import ChatOpenAI\n",
    "from langchain.schema import HumanMessage, AIMessage\n",
    "from langchain_core.documents import Document\n",
    "from langchain.retrievers import MultiVectorRetriever\n",
    "from langchain.storage import InMemoryStore\n",
    "from PIL import Image\n",
    "import io\n",
    "from dotenv import load_dotenv\n",
    "load_dotenv()"
   ]
  },
  {
   "cell_type": "code",
   "execution_count": 13,
   "metadata": {},
   "outputs": [],
   "source": [
    "# Initialize the embedding model\n",
    "embeddings = OpenAIEmbeddings()"
   ]
  },
  {
   "cell_type": "code",
   "execution_count": 14,
   "metadata": {},
   "outputs": [],
   "source": [
    "# Initialize the LLM\n",
    "llm = ChatOpenAI(model=\"gpt-4-vision-preview\", max_tokens=1024)"
   ]
  },
  {
   "cell_type": "code",
   "execution_count": 15,
   "metadata": {},
   "outputs": [],
   "source": [
    "# Create a vector store for text documents\n",
    "text_vectorstore = FAISS.from_texts(\n",
    "    [\"This is a red car\", \"This is a blue house\", \"This is a green tree\"],\n",
    "    embeddings\n",
    ")"
   ]
  },
  {
   "cell_type": "code",
   "execution_count": 16,
   "metadata": {},
   "outputs": [],
   "source": [
    "# Function to process images\n",
    "def process_image(image_path):\n",
    "    # Load and process image\n",
    "    image = Image.open(image_path)\n",
    "    # Convert to bytes for OpenAI API\n",
    "    byte_stream = io.BytesIO()\n",
    "    image.save(byte_stream, format=image.format)\n",
    "    image_bytes = byte_stream.getvalue()\n",
    "    return image_bytes"
   ]
  },
  {
   "cell_type": "code",
   "execution_count": 17,
   "metadata": {},
   "outputs": [],
   "source": [
    "# Create a retriever that combines text and image search\n",
    "id_key = \"doc_id\"\n",
    "docstore = InMemoryStore()\n",
    "multimodal_retriever = MultiVectorRetriever(\n",
    "    vectorstore=text_vectorstore,\n",
    "    docstore=docstore,\n",
    "    id_key=id_key,\n",
    ")"
   ]
  },
  {
   "cell_type": "code",
   "execution_count": 27,
   "metadata": {},
   "outputs": [],
   "source": [
    "# Function to add documents\n",
    "def add_document(text, image_path=None):\n",
    "    doc_id = str(hash(text))\n",
    "    doc = Document(page_content=text, metadata={id_key: doc_id})\n",
    "    \n",
    "    if image_path:\n",
    "        # Process image and add to docstore\n",
    "        image_bytes = process_image(image_path)\n",
    "        doc.metadata[\"image\"] = image_bytes\n",
    "    \n",
    "    # Add to vectorstore\n",
    "    text_vectorstore.add_texts([doc.page_content], metadatas=[{id_key: doc_id}])\n",
    "    \n",
    "    # Add to docstore\n",
    "    docstore.mset([(doc_id, doc)])"
   ]
  },
  {
   "cell_type": "code",
   "execution_count": 28,
   "metadata": {},
   "outputs": [],
   "source": [
    "# Function to query the system\n",
    "def query_system(query, image_path=None):\n",
    "    # Prepare the messages\n",
    "    messages = []\n",
    "    messages.append(HumanMessage(content=query))\n",
    "    \n",
    "    if image_path:\n",
    "        image_bytes = process_image(image_path)\n",
    "        messages[0].content = [\n",
    "            query,\n",
    "            {\"type\": \"image_url\", \n",
    "             \"image_url\": f\"data:image/jpeg;base64,{image_bytes}\"}\n",
    "        ]\n",
    "    \n",
    "    # Get relevant documents\n",
    "    docs = multimodal_retriever.get_relevant_documents(query)\n",
    "    \n",
    "    # Add context from retrieved documents\n",
    "    context = \"Retrieved context:\\n\"\n",
    "    for doc in docs:\n",
    "        context += doc.page_content + \"\\n\"\n",
    "        if \"image\" in doc.metadata:\n",
    "            messages[0].content.append(\n",
    "                {\"type\": \"image_url\", \n",
    "                 \"image_url\": f\"data:image/jpeg;base64,{doc.metadata['image']}\"}\n",
    "            )\n",
    "    \n",
    "    # Add context to query\n",
    "    if isinstance(messages[0].content, str):\n",
    "        messages[0].content = context + \"\\nQuery: \" + messages[0].content\n",
    "    else:\n",
    "        messages[0].content[0] = context + \"\\nQuery: \" + messages[0].content[0]\n",
    "    \n",
    "    # Get response from LLM\n",
    "    response = llm.invoke(messages)\n",
    "    return response.content"
   ]
  },
  {
   "cell_type": "markdown",
   "metadata": {},
   "source": [
    "# Example usage:\n",
    "'''\n",
    "add_document(\"This is a red sports car\", \"car.jpg\")\n",
    "add_document(\"This is a modern house\", \"house.jpg\")\n",
    "\n",
    "# Query with text only\n",
    "response = query_system(\"What color is the car?\")\n",
    "\n",
    "# Query with text and image\n",
    "response = query_system(\"What's in this image?\", \"query_image.jpg\")\n",
    "'''"
   ]
  },
  {
   "cell_type": "code",
   "execution_count": 29,
   "metadata": {},
   "outputs": [],
   "source": [
    "add_document(\"This is a red sports car\", \"red_car.jpg\")"
   ]
  },
  {
   "cell_type": "code",
   "execution_count": 30,
   "metadata": {},
   "outputs": [
    {
     "name": "stderr",
     "output_type": "stream",
     "text": [
      "/var/folders/b7/prshlgfn7n7cdb8nnrz16m1c0000gn/T/ipykernel_78070/3771045890.py:16: LangChainDeprecationWarning: The method `BaseRetriever.get_relevant_documents` was deprecated in langchain-core 0.1.46 and will be removed in 1.0. Use :meth:`~invoke` instead.\n",
      "  docs = multimodal_retriever.get_relevant_documents(query)\n"
     ]
    },
    {
     "ename": "AttributeError",
     "evalue": "'str' object has no attribute 'append'",
     "output_type": "error",
     "traceback": [
      "\u001b[0;31m---------------------------------------------------------------------------\u001b[0m",
      "\u001b[0;31mAttributeError\u001b[0m                            Traceback (most recent call last)",
      "Cell \u001b[0;32mIn[30], line 1\u001b[0m\n\u001b[0;32m----> 1\u001b[0m response \u001b[38;5;241m=\u001b[39m \u001b[43mquery_system\u001b[49m\u001b[43m(\u001b[49m\u001b[38;5;124;43m\"\u001b[39;49m\u001b[38;5;124;43mWhat color is the car?\u001b[39;49m\u001b[38;5;124;43m\"\u001b[39;49m\u001b[43m)\u001b[49m\n",
      "Cell \u001b[0;32mIn[28], line 23\u001b[0m, in \u001b[0;36mquery_system\u001b[0;34m(query, image_path)\u001b[0m\n\u001b[1;32m     21\u001b[0m     context \u001b[38;5;241m+\u001b[39m\u001b[38;5;241m=\u001b[39m doc\u001b[38;5;241m.\u001b[39mpage_content \u001b[38;5;241m+\u001b[39m \u001b[38;5;124m\"\u001b[39m\u001b[38;5;130;01m\\n\u001b[39;00m\u001b[38;5;124m\"\u001b[39m\n\u001b[1;32m     22\u001b[0m     \u001b[38;5;28;01mif\u001b[39;00m \u001b[38;5;124m\"\u001b[39m\u001b[38;5;124mimage\u001b[39m\u001b[38;5;124m\"\u001b[39m \u001b[38;5;129;01min\u001b[39;00m doc\u001b[38;5;241m.\u001b[39mmetadata:\n\u001b[0;32m---> 23\u001b[0m         \u001b[43mmessages\u001b[49m\u001b[43m[\u001b[49m\u001b[38;5;241;43m0\u001b[39;49m\u001b[43m]\u001b[49m\u001b[38;5;241;43m.\u001b[39;49m\u001b[43mcontent\u001b[49m\u001b[38;5;241;43m.\u001b[39;49m\u001b[43mappend\u001b[49m(\n\u001b[1;32m     24\u001b[0m             {\u001b[38;5;124m\"\u001b[39m\u001b[38;5;124mtype\u001b[39m\u001b[38;5;124m\"\u001b[39m: \u001b[38;5;124m\"\u001b[39m\u001b[38;5;124mimage_url\u001b[39m\u001b[38;5;124m\"\u001b[39m, \n\u001b[1;32m     25\u001b[0m              \u001b[38;5;124m\"\u001b[39m\u001b[38;5;124mimage_url\u001b[39m\u001b[38;5;124m\"\u001b[39m: \u001b[38;5;124mf\u001b[39m\u001b[38;5;124m\"\u001b[39m\u001b[38;5;124mdata:image/jpeg;base64,\u001b[39m\u001b[38;5;132;01m{\u001b[39;00mdoc\u001b[38;5;241m.\u001b[39mmetadata[\u001b[38;5;124m'\u001b[39m\u001b[38;5;124mimage\u001b[39m\u001b[38;5;124m'\u001b[39m]\u001b[38;5;132;01m}\u001b[39;00m\u001b[38;5;124m\"\u001b[39m}\n\u001b[1;32m     26\u001b[0m         )\n\u001b[1;32m     28\u001b[0m \u001b[38;5;66;03m# Add context to query\u001b[39;00m\n\u001b[1;32m     29\u001b[0m \u001b[38;5;28;01mif\u001b[39;00m \u001b[38;5;28misinstance\u001b[39m(messages[\u001b[38;5;241m0\u001b[39m]\u001b[38;5;241m.\u001b[39mcontent, \u001b[38;5;28mstr\u001b[39m):\n",
      "\u001b[0;31mAttributeError\u001b[0m: 'str' object has no attribute 'append'"
     ]
    }
   ],
   "source": [
    "response = query_system(\"What color is the car?\")"
   ]
  }
 ],
 "metadata": {
  "kernelspec": {
   "display_name": "Python 3",
   "language": "python",
   "name": "python3"
  },
  "language_info": {
   "codemirror_mode": {
    "name": "ipython",
    "version": 3
   },
   "file_extension": ".py",
   "mimetype": "text/x-python",
   "name": "python",
   "nbconvert_exporter": "python",
   "pygments_lexer": "ipython3",
   "version": "3.10.16"
  }
 },
 "nbformat": 4,
 "nbformat_minor": 2
}
